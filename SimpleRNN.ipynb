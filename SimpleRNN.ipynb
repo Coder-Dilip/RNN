{
  "nbformat": 4,
  "nbformat_minor": 0,
  "metadata": {
    "colab": {
      "provenance": []
    },
    "kernelspec": {
      "name": "python3",
      "display_name": "Python 3"
    },
    "language_info": {
      "name": "python"
    }
  },
  "cells": [
    {
      "cell_type": "markdown",
      "source": [
        "Detailed explanation is done in notebook"
      ],
      "metadata": {
        "id": "yR_p5YmJ5od8"
      }
    },
    {
      "cell_type": "code",
      "execution_count": 3,
      "metadata": {
        "id": "ygFiSakj3Ogr"
      },
      "outputs": [],
      "source": [
        "import tensorflow as tf"
      ]
    },
    {
      "cell_type": "code",
      "source": [
        "model=tf.keras.Sequential()\n",
        "model.add(tf.keras.layers.SimpleRNN(units=3,input_shape=(3,5)))   #Three input words (\"movie was good\") and 5 length vector as in example page 11\n",
        "model.add(tf.keras.layers.Dense(units=1,activation=\"sigmoid\"))"
      ],
      "metadata": {
        "id": "acVczR_63n0H"
      },
      "execution_count": 6,
      "outputs": []
    },
    {
      "cell_type": "code",
      "source": [
        "model.summary()"
      ],
      "metadata": {
        "colab": {
          "base_uri": "https://localhost:8080/"
        },
        "id": "UTnNKI_A4gSB",
        "outputId": "d4e1dc30-3cf7-4ac3-f14e-859e52e6c32c"
      },
      "execution_count": 7,
      "outputs": [
        {
          "output_type": "stream",
          "name": "stdout",
          "text": [
            "Model: \"sequential_2\"\n",
            "_________________________________________________________________\n",
            " Layer (type)                Output Shape              Param #   \n",
            "=================================================================\n",
            " simple_rnn_1 (SimpleRNN)    (None, 3)                 27        \n",
            "                                                                 \n",
            " dense_1 (Dense)             (None, 1)                 4         \n",
            "                                                                 \n",
            "=================================================================\n",
            "Total params: 31\n",
            "Trainable params: 31\n",
            "Non-trainable params: 0\n",
            "_________________________________________________________________\n"
          ]
        }
      ]
    },
    {
      "cell_type": "code",
      "source": [
        "model.get_weights()[0]  # page 11 (input layer to hidden layer)"
      ],
      "metadata": {
        "colab": {
          "base_uri": "https://localhost:8080/"
        },
        "id": "_3VlMN2e5LAo",
        "outputId": "63695677-4164-4761-d4ce-ad557a7b52a3"
      },
      "execution_count": 9,
      "outputs": [
        {
          "output_type": "execute_result",
          "data": {
            "text/plain": [
              "array([[ 0.33788854, -0.4610704 ,  0.60250944],\n",
              "       [ 0.2803312 , -0.28501672, -0.21757877],\n",
              "       [ 0.8113597 ,  0.5813704 , -0.56180656],\n",
              "       [-0.69645464,  0.53151375,  0.40111643],\n",
              "       [ 0.4233318 ,  0.7870415 , -0.5842741 ]], dtype=float32)"
            ]
          },
          "metadata": {},
          "execution_count": 9
        }
      ]
    },
    {
      "cell_type": "code",
      "source": [
        "model.get_weights()[1] # page 12"
      ],
      "metadata": {
        "colab": {
          "base_uri": "https://localhost:8080/"
        },
        "id": "dJ564Kfx5VIT",
        "outputId": "8cdd7bb9-e2d7-430d-c1fb-a1efab061c9f"
      },
      "execution_count": 10,
      "outputs": [
        {
          "output_type": "execute_result",
          "data": {
            "text/plain": [
              "array([[ 0.3624364 , -0.8913297 ,  0.27234384],\n",
              "       [ 0.85256296,  0.43512493,  0.28948689],\n",
              "       [-0.37653187,  0.12726969,  0.9176199 ]], dtype=float32)"
            ]
          },
          "metadata": {},
          "execution_count": 10
        }
      ]
    },
    {
      "cell_type": "code",
      "source": [
        "model.get_weights()[2] #page 11 output layer"
      ],
      "metadata": {
        "colab": {
          "base_uri": "https://localhost:8080/"
        },
        "id": "QW1vl4-Y5XH6",
        "outputId": "6e8d1a75-0526-4f57-d2aa-ead7eb9fbb58"
      },
      "execution_count": 11,
      "outputs": [
        {
          "output_type": "execute_result",
          "data": {
            "text/plain": [
              "array([0., 0., 0.], dtype=float32)"
            ]
          },
          "metadata": {},
          "execution_count": 11
        }
      ]
    }
  ]
}